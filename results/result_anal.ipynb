{
 "cells": [
  {
   "cell_type": "code",
   "execution_count": 1,
   "metadata": {},
   "outputs": [
    {
     "data": {
      "text/plain": [
       "['.ipynb_checkpoints',\n",
       " 'comp4_det_val_aeroplane.txt',\n",
       " 'comp4_det_val_bicycle.txt',\n",
       " 'comp4_det_val_boat.txt',\n",
       " 'comp4_det_val_bottle.txt',\n",
       " 'comp4_det_val_bus.txt',\n",
       " 'comp4_det_val_car.txt',\n",
       " 'comp4_det_val_chair.txt',\n",
       " 'comp4_det_val_diningtable.txt',\n",
       " 'comp4_det_val_motorbike.txt',\n",
       " 'comp4_det_val_sofa.txt',\n",
       " 'comp4_det_val_train.txt',\n",
       " 'comp4_det_val_tvmonitor.txt',\n",
       " 'Untitled.ipynb']"
      ]
     },
     "execution_count": 1,
     "metadata": {},
     "output_type": "execute_result"
    }
   ],
   "source": [
    "import os\n",
    "os.listdir(\"./\")"
   ]
  },
  {
   "cell_type": "code",
   "execution_count": 12,
   "metadata": {},
   "outputs": [],
   "source": [
    "import numpy as np\n",
    "from collections import OrderedDict \n",
    "res = OrderedDict()\n",
    "for file in os.listdir(\"./\"):\n",
    "    if file.endswith(\".txt\"):\n",
    "        label = file.split(\"_\")[3].split(\".\")[0]\n",
    "        res_tmp = []\n",
    "        with open(file, \"r\") as f:\n",
    "            for lines in f:\n",
    "                #print(lines.split(\" \")[1], lines.split(\" \")[6])\n",
    "                res_tmp.append([float(lines.split(\" \")[1]), int(lines.split(\" \")[6])])\n",
    "        res[label] = np.array(res_tmp)"
   ]
  },
  {
   "cell_type": "code",
   "execution_count": 19,
   "metadata": {},
   "outputs": [
    {
     "data": {
      "text/plain": [
       "array([[ 1.   ,  2.   ],\n",
       "       [ 1.   , 22.   ],\n",
       "       [ 1.   ,  3.   ],\n",
       "       [ 1.   , 23.   ],\n",
       "       [ 1.   , 23.   ],\n",
       "       [ 1.   , 23.   ],\n",
       "       [ 1.   ,  3.   ],\n",
       "       [ 1.   , 23.   ],\n",
       "       [ 1.   ,  2.   ],\n",
       "       [ 1.   ,  3.   ],\n",
       "       [ 1.   ,  3.   ],\n",
       "       [ 1.   ,  2.   ],\n",
       "       [ 1.   , 10.   ],\n",
       "       [ 1.   ,  2.   ],\n",
       "       [ 1.   , 22.   ],\n",
       "       [ 1.   , 23.   ],\n",
       "       [ 1.   ,  2.   ],\n",
       "       [ 1.   , 24.   ],\n",
       "       [ 1.   , 22.   ],\n",
       "       [ 1.   ,  3.   ],\n",
       "       [ 1.   , 24.   ],\n",
       "       [ 1.   ,  2.   ],\n",
       "       [ 1.   , 23.   ],\n",
       "       [ 1.   , 22.   ],\n",
       "       [ 1.   , 23.   ],\n",
       "       [ 1.   , 23.   ],\n",
       "       [ 1.   , 23.   ],\n",
       "       [ 1.   ,  3.   ],\n",
       "       [ 1.   , 23.   ],\n",
       "       [ 1.   , 23.   ],\n",
       "       [ 1.   , 23.   ],\n",
       "       [ 1.   , 14.   ],\n",
       "       [ 1.   ,  2.   ],\n",
       "       [ 1.   , 22.   ],\n",
       "       [ 1.   ,  4.   ],\n",
       "       [ 1.   ,  2.   ],\n",
       "       [ 1.   ,  2.   ],\n",
       "       [ 1.   , 23.   ],\n",
       "       [ 1.   ,  3.   ],\n",
       "       [ 1.   ,  2.   ],\n",
       "       [ 1.   , 23.   ],\n",
       "       [ 1.   ,  4.   ],\n",
       "       [ 1.   , 10.   ],\n",
       "       [ 1.   , 23.   ],\n",
       "       [ 1.   , 23.   ],\n",
       "       [ 1.   ,  8.   ],\n",
       "       [ 1.   ,  2.   ],\n",
       "       [ 1.   , 23.   ],\n",
       "       [ 1.   , 17.   ],\n",
       "       [ 1.   , 15.   ],\n",
       "       [ 1.   ,  2.   ],\n",
       "       [ 1.   ,  2.   ],\n",
       "       [ 1.   , 23.   ],\n",
       "       [ 1.   ,  2.   ],\n",
       "       [ 1.   , 23.   ],\n",
       "       [ 1.   ,  2.   ],\n",
       "       [ 1.   , 22.   ],\n",
       "       [ 1.   ,  2.   ],\n",
       "       [ 1.   , 23.   ],\n",
       "       [ 1.   ,  3.   ],\n",
       "       [ 1.   ,  3.   ],\n",
       "       [ 0.999, 20.   ],\n",
       "       [ 0.999, 20.   ],\n",
       "       [ 0.999, 23.   ],\n",
       "       [ 0.999, 22.   ],\n",
       "       [ 0.999,  2.   ],\n",
       "       [ 0.999, 22.   ],\n",
       "       [ 0.999, 23.   ],\n",
       "       [ 0.999,  3.   ],\n",
       "       [ 0.999,  1.   ],\n",
       "       [ 0.999,  3.   ],\n",
       "       [ 0.999,  3.   ],\n",
       "       [ 0.999, 23.   ],\n",
       "       [ 0.998, 21.   ],\n",
       "       [ 0.998,  3.   ],\n",
       "       [ 0.998,  1.   ],\n",
       "       [ 0.998, 21.   ],\n",
       "       [ 0.998,  2.   ],\n",
       "       [ 0.998, 23.   ],\n",
       "       [ 0.997,  2.   ],\n",
       "       [ 0.997,  3.   ],\n",
       "       [ 0.997,  2.   ],\n",
       "       [ 0.997, 24.   ],\n",
       "       [ 0.996, 21.   ],\n",
       "       [ 0.988,  2.   ],\n",
       "       [ 0.987,  5.   ],\n",
       "       [ 0.986, 13.   ],\n",
       "       [ 0.985, 23.   ],\n",
       "       [ 0.984,  2.   ],\n",
       "       [ 0.978, 15.   ],\n",
       "       [ 0.977,  8.   ],\n",
       "       [ 0.975, 10.   ],\n",
       "       [ 0.97 ,  2.   ],\n",
       "       [ 0.964,  1.   ],\n",
       "       [ 0.962, 24.   ],\n",
       "       [ 0.944, 21.   ],\n",
       "       [ 0.913, 18.   ],\n",
       "       [ 0.91 ,  2.   ],\n",
       "       [ 0.889, 23.   ],\n",
       "       [ 0.881, 21.   ]])"
      ]
     },
     "execution_count": 19,
     "metadata": {},
     "output_type": "execute_result"
    }
   ],
   "source": [
    "np.flip(res[\"car\"][res[\"car\"][:, 0].argsort()], 0)"
   ]
  },
  {
   "cell_type": "code",
   "execution_count": 26,
   "metadata": {},
   "outputs": [
    {
     "name": "stdout",
     "output_type": "stream",
     "text": [
      "aeroplane\n",
      "[10 12 13  8 11 16  9 14 21  1 17 18  6 15  0  5  7 19  2  4 22  3 20 23]\n",
      "bicycle\n",
      "[13 12 11 10 22 18  5 15  9  8  7 14  2  1  0  6  3 20 16 23  4 21 19 17]\n",
      "boat\n",
      "[13 12  6  9 14  0 11  8  4 17 16 19  5  1 18 10  7 20  2 15 22 21  3 23]\n",
      "bottle\n",
      "[13 12  9 10 16 15 14  7  8 11 17  5  4 19  6 18 20 21 22  1  3  2  0 23]\n",
      "bus\n",
      "[13 15  5 16 14  6 18 17 20  8  7 12 10  9 11  3  4 19 21  2  0 23  1 22]\n",
      "car\n",
      "[15 11  8  5 18 10  6 13 16 17  4 14  7 12  9 19  3  0 20 21 23  2  1 22]\n",
      "chair\n",
      "[13 12  8 10  9  6  7 17 16 11 14  5 19 18  4 15  3 20  1 22  2 21  0 23]\n",
      "diningtable\n",
      "[11 13 12 14 16 15 10  8  9  7 17  6 18 20  5 19  4  1  3 22  0  2 21 23]\n",
      "motorbike\n",
      "[13 12 11 15 14  9 10  5  0 16  7  8  4  6 19  1 23 22 18 17 20  3 21  2]\n",
      "sofa\n",
      "[11 15 13 12  9 16 10  8  5  7 14  4  6 17 18 20  3 19  2  1 21 22  0 23]\n",
      "train\n",
      "[13 16  8 14  5  9 12 15  4 17  6 19 11 18 10  3  7 20  2 21  1  0 22 23]\n",
      "tvmonitor\n",
      "[10 13  5 12  9 16 15 17 11  8  6 18  7 14  4 20 19  3 21  2 22  1  0 23]\n"
     ]
    }
   ],
   "source": [
    "for label in res:\n",
    "    print(label)\n",
    "    view_point = np.zeros(shape=(24))\n",
    "    for obj in res[label]:\n",
    "        view_point[int(obj[1]) - 1] += obj[0]\n",
    "    print(view_point.argsort())"
   ]
  },
  {
   "cell_type": "code",
   "execution_count": null,
   "metadata": {},
   "outputs": [],
   "source": []
  }
 ],
 "metadata": {
  "kernelspec": {
   "display_name": "Python 3",
   "language": "python",
   "name": "python3"
  },
  "language_info": {
   "codemirror_mode": {
    "name": "ipython",
    "version": 3
   },
   "file_extension": ".py",
   "mimetype": "text/x-python",
   "name": "python",
   "nbconvert_exporter": "python",
   "pygments_lexer": "ipython3",
   "version": "3.7.0"
  }
 },
 "nbformat": 4,
 "nbformat_minor": 2
}
